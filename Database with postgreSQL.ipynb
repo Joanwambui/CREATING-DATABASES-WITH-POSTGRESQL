{
 "cells": [
  {
   "cell_type": "code",
   "execution_count": 1,
   "id": "02e0b79f",
   "metadata": {},
   "outputs": [],
   "source": [
    "import psycopg2"
   ]
  },
  {
   "cell_type": "code",
   "execution_count": 2,
   "id": "14effa19",
   "metadata": {},
   "outputs": [],
   "source": [
    "try:\n",
    "    conn = psycopg2.connect(\"host=127.0.0.1 dbname=myfirstdb user=postgres password=Jojo0711278055#\")\n",
    "except psycopg2.Error as e:\n",
    "    print(\"Error: Could not make connection to the postgres database\")\n",
    "    print(e)"
   ]
  },
  {
   "cell_type": "code",
   "execution_count": 3,
   "id": "596fab48",
   "metadata": {},
   "outputs": [],
   "source": [
    "conn.set_session(autocommit=True)"
   ]
  },
  {
   "cell_type": "code",
   "execution_count": 4,
   "id": "fcaa8bc5",
   "metadata": {},
   "outputs": [],
   "source": [
    "try:\n",
    "    curr = conn.cursor()\n",
    "except psycopg2.Error as e:\n",
    "    print(\"Error: Could not get cursor to the database\")\n",
    "    print(e)"
   ]
  },
  {
   "cell_type": "code",
   "execution_count": 7,
   "id": "86635725",
   "metadata": {},
   "outputs": [],
   "source": [
    "#Insert the following two rows in the table\n",
    "#First Row: 1, \"Rej\", 23, \"Male\", \"Python\", 85\n",
    "#Second Row: 2, \"Priya\", 22, \"Female\", \"Python\", 86"
   ]
  },
  {
   "cell_type": "code",
   "execution_count": 13,
   "id": "0f33bbbd",
   "metadata": {},
   "outputs": [],
   "source": [
    "import psycopg2\n",
    "\n",
    "try:\n",
    "    curr.execute(\"CREATE TABLE IF NOT EXISTS students (student_id int, name varchar, age int, gender varchar, subject varchar, marks int);\")\n",
    "except psycopg2.Error as e:\n",
    "    print(\"Error: Issue creating table\")\n",
    "    print(e)\n",
    "\n",
    "try:\n",
    "    curr.execute(\"INSERT INTO students (student_id, name, age, gender, subject, marks)\\\n",
    "                  VALUES (%s, %s, %s, %s, %s, %s)\",  \n",
    "                  (1, \"Raj\", 23, \"Male\", \"Python\", 85))\n",
    "except psycopg2.Error as e:\n",
    "    print(\"Error: Inserting Rows\")\n",
    "    print(e)\n",
    "\n",
    "try:\n",
    "    curr.execute(\"INSERT INTO students (student_id, name, age, gender, subject, marks)\\\n",
    "                  VALUES (%s, %s, %s, %s, %s, %s)\",  \n",
    "                  (2, \"Priya\", 22, \"Female\", \"Python\", 86))\n",
    "except psycopg2.Error as e:\n",
    "    print(\"Error: Inserting Rows\")\n",
    "    print(e)\n"
   ]
  },
  {
   "cell_type": "code",
   "execution_count": null,
   "id": "a72a1ee7",
   "metadata": {},
   "outputs": [],
   "source": [
    "##Validate your data was Inserted into the table"
   ]
  },
  {
   "cell_type": "code",
   "execution_count": 14,
   "id": "7cab9bd2",
   "metadata": {},
   "outputs": [
    {
     "name": "stdout",
     "output_type": "stream",
     "text": [
      "(1, 'Raj', 23, 'Male', 'Python', 85)\n",
      "(2, 'Priya', 22, 'Female', 'Python', 86)\n"
     ]
    }
   ],
   "source": [
    "try:\n",
    "    curr.execute (\"SELECT * FROM students;\")\n",
    "except psycopg2.Error as e:\n",
    "    print(\"Error: select *\")\n",
    "    print(e)\n",
    "    \n",
    "row = curr.fetchone()\n",
    "while row:\n",
    "    print(row)\n",
    "    row = curr.fetchone()"
   ]
  },
  {
   "cell_type": "code",
   "execution_count": null,
   "id": "4cbd8081",
   "metadata": {},
   "outputs": [],
   "source": [
    "#Finally Close your Cursor and Connection"
   ]
  },
  {
   "cell_type": "code",
   "execution_count": null,
   "id": "f56036c0",
   "metadata": {},
   "outputs": [],
   "source": [
    "curr.close()\n",
    "conn.close()\n"
   ]
  }
 ],
 "metadata": {
  "kernelspec": {
   "display_name": "Python 3 (ipykernel)",
   "language": "python",
   "name": "python3"
  },
  "language_info": {
   "codemirror_mode": {
    "name": "ipython",
    "version": 3
   },
   "file_extension": ".py",
   "mimetype": "text/x-python",
   "name": "python",
   "nbconvert_exporter": "python",
   "pygments_lexer": "ipython3",
   "version": "3.11.3"
  }
 },
 "nbformat": 4,
 "nbformat_minor": 5
}
