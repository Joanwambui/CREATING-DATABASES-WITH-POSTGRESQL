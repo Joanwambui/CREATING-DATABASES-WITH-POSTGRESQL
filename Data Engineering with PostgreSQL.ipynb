{
 "cells": [
  {
   "cell_type": "code",
   "execution_count": 1,
   "id": "e61430ca",
   "metadata": {},
   "outputs": [],
   "source": [
    "import psycopg2\n",
    "import pandas as pd"
   ]
  },
  {
   "cell_type": "code",
   "execution_count": 2,
   "id": "764ef6a3",
   "metadata": {},
   "outputs": [],
   "source": [
    "def create_database():\n",
    "    conn = psycopg2.connect(\"host=127.0.0.1 dbname=postgres user=postgres password=Jojo0711278055#\")\n",
    "    conn.set_session(autocommit=True)\n",
    "    cur = conn.cursor()\n",
    "    \n",
    "    \n",
    "    #create sparkify database with UTF8 encoding\n",
    "    cur.execute(\"DROP DATABASE accounts\")\n",
    "    cur.execute(\"CREATE DATABASE accounts\")\n",
    "    \n",
    "    #close connection to default database\n",
    "    conn.close()\n",
    "    \n",
    "    #connect to sparkify database\n",
    "    conn = psycopg2.connect(\"host=127.0.0.1 dbname=accounts user=postgres password=Jojo0711278055#\")\n",
    "    curr = conn.cursor()\n",
    "    \n",
    "    return curr, conn\n",
    "    "
   ]
  },
  {
   "cell_type": "code",
   "execution_count": 34,
   "id": "4a508fcb",
   "metadata": {},
   "outputs": [],
   "source": [
    "def drop_tables(curr, conn):\n",
    "    for query in drop_table_queries:\n",
    "        curr.execute(query)\n",
    "        conn.commit()"
   ]
  },
  {
   "cell_type": "code",
   "execution_count": 35,
   "id": "2d2c1ba9",
   "metadata": {},
   "outputs": [],
   "source": [
    "def create_tables(curr, conn):\n",
    "    for query in create_table_queries:\n",
    "        curr.execute(query)\n",
    "        conn.commit()"
   ]
  },
  {
   "cell_type": "code",
   "execution_count": 3,
   "id": "27db4809",
   "metadata": {},
   "outputs": [],
   "source": [
    "AccountsCountry = pd.read_csv(r\"C:\\Users\\digit\\Downloads\\Wealth-AccountsCountry.csv\")"
   ]
  },
  {
   "cell_type": "code",
   "execution_count": 4,
   "id": "9402b7eb",
   "metadata": {},
   "outputs": [
    {
     "data": {
      "text/plain": [
       "Index(['Code', 'Long Name', 'Income Group', 'Region', 'Lending category',\n",
       "       'Other groups', 'Currency Unit', 'Latest population census',\n",
       "       'Latest household survey', 'Special Notes',\n",
       "       'National accounts base year', 'National accounts reference year',\n",
       "       'System of National Accounts', 'SNA price valuation',\n",
       "       'Alternative conversion factor', 'PPP survey years',\n",
       "       'Balance of Payments Manual in use', 'External debt Reporting status',\n",
       "       'System of trade', 'Government Accounting concept',\n",
       "       'IMF data dissemination standard',\n",
       "       'Source of most recent Income and expenditure data',\n",
       "       'Vital registration complete', 'Latest agricultural census',\n",
       "       'Latest industrial data', 'Latest trade data',\n",
       "       'Latest water withdrawal data', '2-alpha code', 'WB-2 code',\n",
       "       'Table Name', 'Short Name'],\n",
       "      dtype='object')"
      ]
     },
     "execution_count": 4,
     "metadata": {},
     "output_type": "execute_result"
    }
   ],
   "source": [
    "AccountsCountry.head()\n",
    "AccountsCountry.columns"
   ]
  },
  {
   "cell_type": "code",
   "execution_count": 5,
   "id": "94708949",
   "metadata": {},
   "outputs": [],
   "source": [
    "AccountsCountry_clean = AccountsCountry[[\"Code\", \"Table Name\", \"Short Name\", \"Long Name\", \"Currency Unit\"]]"
   ]
  },
  {
   "cell_type": "code",
   "execution_count": 6,
   "id": "5dc706a2",
   "metadata": {},
   "outputs": [
    {
     "data": {
      "text/html": [
       "<div>\n",
       "<style scoped>\n",
       "    .dataframe tbody tr th:only-of-type {\n",
       "        vertical-align: middle;\n",
       "    }\n",
       "\n",
       "    .dataframe tbody tr th {\n",
       "        vertical-align: top;\n",
       "    }\n",
       "\n",
       "    .dataframe thead th {\n",
       "        text-align: right;\n",
       "    }\n",
       "</style>\n",
       "<table border=\"1\" class=\"dataframe\">\n",
       "  <thead>\n",
       "    <tr style=\"text-align: right;\">\n",
       "      <th></th>\n",
       "      <th>Code</th>\n",
       "      <th>Table Name</th>\n",
       "      <th>Short Name</th>\n",
       "      <th>Long Name</th>\n",
       "      <th>Currency Unit</th>\n",
       "    </tr>\n",
       "  </thead>\n",
       "  <tbody>\n",
       "    <tr>\n",
       "      <th>0</th>\n",
       "      <td>ALB</td>\n",
       "      <td>Albania</td>\n",
       "      <td>Albania</td>\n",
       "      <td>Republic of Albania</td>\n",
       "      <td>Albanian lek</td>\n",
       "    </tr>\n",
       "    <tr>\n",
       "      <th>1</th>\n",
       "      <td>ARG</td>\n",
       "      <td>Argentina</td>\n",
       "      <td>Argentina</td>\n",
       "      <td>Argentine Republic</td>\n",
       "      <td>Argentine peso</td>\n",
       "    </tr>\n",
       "    <tr>\n",
       "      <th>2</th>\n",
       "      <td>ARM</td>\n",
       "      <td>Armenia</td>\n",
       "      <td>Armenia</td>\n",
       "      <td>Republic of Armenia</td>\n",
       "      <td>Armenian dram</td>\n",
       "    </tr>\n",
       "    <tr>\n",
       "      <th>3</th>\n",
       "      <td>AUS</td>\n",
       "      <td>Australia</td>\n",
       "      <td>Australia</td>\n",
       "      <td>Commonwealth of Australia</td>\n",
       "      <td>Australian dollar</td>\n",
       "    </tr>\n",
       "    <tr>\n",
       "      <th>4</th>\n",
       "      <td>AUT</td>\n",
       "      <td>Austria</td>\n",
       "      <td>Austria</td>\n",
       "      <td>Republic of Austria</td>\n",
       "      <td>Euro</td>\n",
       "    </tr>\n",
       "  </tbody>\n",
       "</table>\n",
       "</div>"
      ],
      "text/plain": [
       "  Code Table Name Short Name                  Long Name      Currency Unit\n",
       "0  ALB    Albania    Albania        Republic of Albania       Albanian lek\n",
       "1  ARG  Argentina  Argentina         Argentine Republic     Argentine peso\n",
       "2  ARM    Armenia    Armenia        Republic of Armenia      Armenian dram\n",
       "3  AUS  Australia  Australia  Commonwealth of Australia  Australian dollar\n",
       "4  AUT    Austria    Austria        Republic of Austria               Euro"
      ]
     },
     "execution_count": 6,
     "metadata": {},
     "output_type": "execute_result"
    }
   ],
   "source": [
    "AccountsCountry_clean.head()"
   ]
  },
  {
   "cell_type": "code",
   "execution_count": 7,
   "id": "0e206495",
   "metadata": {},
   "outputs": [],
   "source": [
    "AccountData = pd.read_csv(r\"C:\\Users\\digit\\Downloads\\Wealth-AccountData.csv\")"
   ]
  },
  {
   "cell_type": "code",
   "execution_count": 8,
   "id": "da5ced45",
   "metadata": {},
   "outputs": [
    {
     "data": {
      "text/html": [
       "<div>\n",
       "<style scoped>\n",
       "    .dataframe tbody tr th:only-of-type {\n",
       "        vertical-align: middle;\n",
       "    }\n",
       "\n",
       "    .dataframe tbody tr th {\n",
       "        vertical-align: top;\n",
       "    }\n",
       "\n",
       "    .dataframe thead th {\n",
       "        text-align: right;\n",
       "    }\n",
       "</style>\n",
       "<table border=\"1\" class=\"dataframe\">\n",
       "  <thead>\n",
       "    <tr style=\"text-align: right;\">\n",
       "      <th></th>\n",
       "      <th>Country Name</th>\n",
       "      <th>Country Code</th>\n",
       "      <th>Series Name</th>\n",
       "      <th>Series Code</th>\n",
       "      <th>1995 [YR1995]</th>\n",
       "      <th>1996 [YR1996]</th>\n",
       "      <th>1997 [YR1997]</th>\n",
       "      <th>1998 [YR1998]</th>\n",
       "      <th>1999 [YR1999]</th>\n",
       "      <th>2000 [YR2000]</th>\n",
       "      <th>...</th>\n",
       "      <th>2009 [YR2009]</th>\n",
       "      <th>2010 [YR2010]</th>\n",
       "      <th>2011 [YR2011]</th>\n",
       "      <th>2012 [YR2012]</th>\n",
       "      <th>2013 [YR2013]</th>\n",
       "      <th>2014 [YR2014]</th>\n",
       "      <th>2015 [YR2015]</th>\n",
       "      <th>2016 [YR2016]</th>\n",
       "      <th>2017 [YR2017]</th>\n",
       "      <th>2018 [YR2018]</th>\n",
       "    </tr>\n",
       "  </thead>\n",
       "  <tbody>\n",
       "    <tr>\n",
       "      <th>0</th>\n",
       "      <td>Albania</td>\n",
       "      <td>ALB</td>\n",
       "      <td>Human capital (constant 2018 US$)</td>\n",
       "      <td>NW.HCA.TO</td>\n",
       "      <td>4.49E+10</td>\n",
       "      <td>4.34E+10</td>\n",
       "      <td>3.71E+10</td>\n",
       "      <td>3.88E+10</td>\n",
       "      <td>4.22E+10</td>\n",
       "      <td>4.36E+10</td>\n",
       "      <td>...</td>\n",
       "      <td>6.610000e+10</td>\n",
       "      <td>6.810000e+10</td>\n",
       "      <td>6.850000e+10</td>\n",
       "      <td>7.080000e+10</td>\n",
       "      <td>7.160000e+10</td>\n",
       "      <td>7.250000e+10</td>\n",
       "      <td>7.370000e+10</td>\n",
       "      <td>7.57E+10</td>\n",
       "      <td>7.80E+10</td>\n",
       "      <td>8.12E+10</td>\n",
       "    </tr>\n",
       "    <tr>\n",
       "      <th>1</th>\n",
       "      <td>Albania</td>\n",
       "      <td>ALB</td>\n",
       "      <td>Human capital per capita (constant 2018 US$)</td>\n",
       "      <td>NW.HCA.PC</td>\n",
       "      <td>14072.79</td>\n",
       "      <td>13708.99</td>\n",
       "      <td>11794.1</td>\n",
       "      <td>12399.48</td>\n",
       "      <td>13573.26</td>\n",
       "      <td>14118.13</td>\n",
       "      <td>...</td>\n",
       "      <td>2.258200e+04</td>\n",
       "      <td>2.336286e+04</td>\n",
       "      <td>2.359058e+04</td>\n",
       "      <td>2.439397e+04</td>\n",
       "      <td>2.473162e+04</td>\n",
       "      <td>2.509002e+04</td>\n",
       "      <td>2.559371e+04</td>\n",
       "      <td>26326.26</td>\n",
       "      <td>27160.86</td>\n",
       "      <td>28333.68</td>\n",
       "    </tr>\n",
       "    <tr>\n",
       "      <th>2</th>\n",
       "      <td>Albania</td>\n",
       "      <td>ALB</td>\n",
       "      <td>Human capital per capita, employed female (con...</td>\n",
       "      <td>NW.HCA.FEMP.PC</td>\n",
       "      <td>3468.858</td>\n",
       "      <td>3355.549</td>\n",
       "      <td>2868.997</td>\n",
       "      <td>3013.391</td>\n",
       "      <td>3259.893</td>\n",
       "      <td>3424.007</td>\n",
       "      <td>...</td>\n",
       "      <td>2.825336e+03</td>\n",
       "      <td>2.889150e+03</td>\n",
       "      <td>2.848523e+03</td>\n",
       "      <td>2.930234e+03</td>\n",
       "      <td>2.954273e+03</td>\n",
       "      <td>2.957420e+03</td>\n",
       "      <td>2.987545e+03</td>\n",
       "      <td>3072.504</td>\n",
       "      <td>3178.417</td>\n",
       "      <td>3312.927</td>\n",
       "    </tr>\n",
       "    <tr>\n",
       "      <th>3</th>\n",
       "      <td>Albania</td>\n",
       "      <td>ALB</td>\n",
       "      <td>Human capital per capita, employed male (const...</td>\n",
       "      <td>NW.HCA.MEMP.PC</td>\n",
       "      <td>6507.931</td>\n",
       "      <td>6353.737</td>\n",
       "      <td>5466.692</td>\n",
       "      <td>5901.072</td>\n",
       "      <td>6492.73</td>\n",
       "      <td>6872.019</td>\n",
       "      <td>...</td>\n",
       "      <td>1.525319e+04</td>\n",
       "      <td>1.578992e+04</td>\n",
       "      <td>1.579854e+04</td>\n",
       "      <td>1.647360e+04</td>\n",
       "      <td>1.681013e+04</td>\n",
       "      <td>1.699138e+04</td>\n",
       "      <td>1.730701e+04</td>\n",
       "      <td>17817.1</td>\n",
       "      <td>18445.94</td>\n",
       "      <td>19245.19</td>\n",
       "    </tr>\n",
       "    <tr>\n",
       "      <th>4</th>\n",
       "      <td>Albania</td>\n",
       "      <td>ALB</td>\n",
       "      <td>Human capital per capita, female (constant 201...</td>\n",
       "      <td>NW.HCA.FEMA.PC</td>\n",
       "      <td>4893.006</td>\n",
       "      <td>4737.857</td>\n",
       "      <td>4059.321</td>\n",
       "      <td>4191.445</td>\n",
       "      <td>4536.972</td>\n",
       "      <td>4695.071</td>\n",
       "      <td>...</td>\n",
       "      <td>3.529144e+03</td>\n",
       "      <td>3.613606e+03</td>\n",
       "      <td>3.603694e+03</td>\n",
       "      <td>3.683810e+03</td>\n",
       "      <td>3.696744e+03</td>\n",
       "      <td>3.719608e+03</td>\n",
       "      <td>3.767628e+03</td>\n",
       "      <td>3872.142</td>\n",
       "      <td>3992.188</td>\n",
       "      <td>4161.137</td>\n",
       "    </tr>\n",
       "  </tbody>\n",
       "</table>\n",
       "<p>5 rows × 28 columns</p>\n",
       "</div>"
      ],
      "text/plain": [
       "  Country Name Country Code   \n",
       "0      Albania          ALB  \\\n",
       "1      Albania          ALB   \n",
       "2      Albania          ALB   \n",
       "3      Albania          ALB   \n",
       "4      Albania          ALB   \n",
       "\n",
       "                                         Series Name     Series Code   \n",
       "0                  Human capital (constant 2018 US$)       NW.HCA.TO  \\\n",
       "1       Human capital per capita (constant 2018 US$)       NW.HCA.PC   \n",
       "2  Human capital per capita, employed female (con...  NW.HCA.FEMP.PC   \n",
       "3  Human capital per capita, employed male (const...  NW.HCA.MEMP.PC   \n",
       "4  Human capital per capita, female (constant 201...  NW.HCA.FEMA.PC   \n",
       "\n",
       "  1995 [YR1995] 1996 [YR1996] 1997 [YR1997] 1998 [YR1998] 1999 [YR1999]   \n",
       "0      4.49E+10      4.34E+10      3.71E+10      3.88E+10      4.22E+10  \\\n",
       "1      14072.79      13708.99       11794.1      12399.48      13573.26   \n",
       "2      3468.858      3355.549      2868.997      3013.391      3259.893   \n",
       "3      6507.931      6353.737      5466.692      5901.072       6492.73   \n",
       "4      4893.006      4737.857      4059.321      4191.445      4536.972   \n",
       "\n",
       "  2000 [YR2000]  ... 2009 [YR2009] 2010 [YR2010] 2011 [YR2011] 2012 [YR2012]   \n",
       "0      4.36E+10  ...  6.610000e+10  6.810000e+10  6.850000e+10  7.080000e+10  \\\n",
       "1      14118.13  ...  2.258200e+04  2.336286e+04  2.359058e+04  2.439397e+04   \n",
       "2      3424.007  ...  2.825336e+03  2.889150e+03  2.848523e+03  2.930234e+03   \n",
       "3      6872.019  ...  1.525319e+04  1.578992e+04  1.579854e+04  1.647360e+04   \n",
       "4      4695.071  ...  3.529144e+03  3.613606e+03  3.603694e+03  3.683810e+03   \n",
       "\n",
       "   2013 [YR2013]  2014 [YR2014]  2015 [YR2015]  2016 [YR2016]  2017 [YR2017]   \n",
       "0   7.160000e+10   7.250000e+10   7.370000e+10       7.57E+10       7.80E+10  \\\n",
       "1   2.473162e+04   2.509002e+04   2.559371e+04       26326.26       27160.86   \n",
       "2   2.954273e+03   2.957420e+03   2.987545e+03       3072.504       3178.417   \n",
       "3   1.681013e+04   1.699138e+04   1.730701e+04        17817.1       18445.94   \n",
       "4   3.696744e+03   3.719608e+03   3.767628e+03       3872.142       3992.188   \n",
       "\n",
       "   2018 [YR2018]  \n",
       "0       8.12E+10  \n",
       "1       28333.68  \n",
       "2       3312.927  \n",
       "3       19245.19  \n",
       "4       4161.137  \n",
       "\n",
       "[5 rows x 28 columns]"
      ]
     },
     "execution_count": 8,
     "metadata": {},
     "output_type": "execute_result"
    }
   ],
   "source": [
    "AccountData.head()"
   ]
  },
  {
   "cell_type": "code",
   "execution_count": 9,
   "id": "6ae231f0",
   "metadata": {},
   "outputs": [
    {
     "data": {
      "text/plain": [
       "Index(['Country Name', 'Country Code', 'Series Name', 'Series Code',\n",
       "       '1995 [YR1995]', '1996 [YR1996]', '1997 [YR1997]', '1998 [YR1998]',\n",
       "       '1999 [YR1999]', '2000 [YR2000]', '2001 [YR2001]', '2002 [YR2002]',\n",
       "       '2003 [YR2003]', '2004 [YR2004]', '2005 [YR2005]', '2006 [YR2006]',\n",
       "       '2007 [YR2007]', '2008 [YR2008]', '2009 [YR2009]', '2010 [YR2010]',\n",
       "       '2011 [YR2011]', '2012 [YR2012]', '2013 [YR2013]', '2014 [YR2014]',\n",
       "       '2015 [YR2015]', '2016 [YR2016]', '2017 [YR2017]', '2018 [YR2018]'],\n",
       "      dtype='object')"
      ]
     },
     "execution_count": 9,
     "metadata": {},
     "output_type": "execute_result"
    }
   ],
   "source": [
    "AccountData.columns\n"
   ]
  },
  {
   "cell_type": "code",
   "execution_count": 10,
   "id": "7c5904a1",
   "metadata": {},
   "outputs": [
    {
     "data": {
      "text/plain": [
       "Index(['Country Name', 'Country Code', 'Series Name', 'Series Code',\n",
       "       '2018 [YR2018]'],\n",
       "      dtype='object')"
      ]
     },
     "execution_count": 10,
     "metadata": {},
     "output_type": "execute_result"
    }
   ],
   "source": [
    "AccountData_clean = AccountData[[\"Country Name\", \"Country Code\", \"Series Name\", \"Series Code\", \"2018 [YR2018]\"]]\n",
    "AccountData_clean.columns"
   ]
  },
  {
   "cell_type": "code",
   "execution_count": 11,
   "id": "630166ea",
   "metadata": {},
   "outputs": [],
   "source": [
    "AccountSeries = pd.read_csv(r\"C:\\Users\\digit\\Downloads\\Wealth-AccountSeries.csv\")"
   ]
  },
  {
   "cell_type": "code",
   "execution_count": 35,
   "id": "dfbfae0b",
   "metadata": {},
   "outputs": [
    {
     "data": {
      "text/plain": [
       "Index(['Code', 'Indicator Name', 'Long definition', 'Source', 'Topic',\n",
       "       'Unit of measure', 'Periodicity', 'Reference period',\n",
       "       'Statistical concept and methodology', 'Previous Indicator Code',\n",
       "       'Previous Indicator Name'],\n",
       "      dtype='object')"
      ]
     },
     "execution_count": 35,
     "metadata": {},
     "output_type": "execute_result"
    }
   ],
   "source": [
    "AccountSeries.head()\n",
    "AccountSeries.columns"
   ]
  },
  {
   "cell_type": "code",
   "execution_count": 37,
   "id": "85fe6e0d",
   "metadata": {},
   "outputs": [
    {
     "data": {
      "text/plain": [
       "Index(['Code', 'Topic', 'Indicator Name', 'Long definition'], dtype='object')"
      ]
     },
     "execution_count": 37,
     "metadata": {},
     "output_type": "execute_result"
    }
   ],
   "source": [
    "AccountSeries_clean = AccountSeries[[\"Code\", \"Topic\", \"Indicator Name\", \"Long definition\"]]\n",
    "AccountSeries_clean.columns"
   ]
  },
  {
   "cell_type": "code",
   "execution_count": 13,
   "id": "a7495027",
   "metadata": {},
   "outputs": [],
   "source": [
    "curr, conn = create_database()"
   ]
  },
  {
   "cell_type": "code",
   "execution_count": 16,
   "id": "41385d3c",
   "metadata": {},
   "outputs": [],
   "source": [
    "import psycopg2\n",
    "import pandas as pd\n",
    "\n",
    "def create_database():\n",
    "    # Connect to the default database\n",
    "    conn = psycopg2.connect(\"dbname=postgres user=postgres password=Jojo0711278055#\")\n",
    "    conn.set_session(autocommit=True)\n",
    "    \n",
    "    # Create a cursor\n",
    "    cur = conn.cursor()\n",
    "\n",
    "    # Drop the database if it exists\n",
    "    cur.execute(\"DROP DATABASE IF EXISTS accountss\")\n",
    "\n",
    "    # Create the database\n",
    "    cur.execute(\"CREATE DATABASE accountss\")\n",
    "\n",
    "    # Close connection to the default database\n",
    "    conn.close()\n",
    "\n",
    "    # Connect to the new database\n",
    "    conn = psycopg2.connect(\"dbname=accounts user=postgres password=Jojo0711278055#\")\n",
    "    conn.set_session(autocommit=True)\n",
    "    cur = conn.cursor()\n",
    "\n",
    "    return cur, conn\n",
    "\n",
    "# Call the function\n",
    "curr, conn = create_database()\n"
   ]
  },
  {
   "cell_type": "code",
   "execution_count": 17,
   "id": "aadb95e8",
   "metadata": {},
   "outputs": [],
   "source": [
    "sonplay_table_create = \"\"\"CREATE TABLE IF NOT EXISTS accountscountry (\n",
    "    country_code VARCHAR PRIMARY KEY,\n",
    "    short_name VARCHAR,\n",
    "    table_name VARCHAR,\n",
    "    long_name VARCHAR,\n",
    "    currency_unit VARCHAR\n",
    ")\"\"\""
   ]
  },
  {
   "cell_type": "code",
   "execution_count": 18,
   "id": "07fb1a8a",
   "metadata": {},
   "outputs": [],
   "source": [
    "curr.execute(sonplay_table_create)\n",
    "conn.commit()"
   ]
  },
  {
   "cell_type": "code",
   "execution_count": 19,
   "id": "0183580a",
   "metadata": {},
   "outputs": [],
   "source": [
    "accounts_data_table_centre = \"\"\"CREATE TABLE IF NOT EXISTS accountsdata (\n",
    "    country_name VARCHAR,\n",
    "    country_code VARCHAR,\n",
    "    series_name VARCHAR,\n",
    "    series_code VARCHAR,\n",
    "    yr_2018 VARCHAR\n",
    ")\"\"\"\n",
    "\n",
    "curr.execute(accounts_data_table_centre)\n",
    "conn.commit()\n"
   ]
  },
  {
   "cell_type": "code",
   "execution_count": 20,
   "id": "808891a9",
   "metadata": {},
   "outputs": [],
   "source": [
    "accounts_series_table_centre = \"\"\" CREATE TABLE IF NOT EXISTS accountseries(\n",
    "series_code VARCHAR,\n",
    "topic VARCHAR,\n",
    "indicator_name VARCHAR,\n",
    "short_definition VARCHAR\n",
    ")\"\"\"\n",
    "\n",
    "\n",
    "curr.execute(accounts_series_table_centre)\n",
    "conn.commit()"
   ]
  },
  {
   "cell_type": "code",
   "execution_count": 32,
   "id": "a50ca9b8",
   "metadata": {},
   "outputs": [],
   "source": [
    "accounts_country_table_insert = \"\"\"INSERT INTO accountscountry(\n",
    "    country_code,\n",
    "    table_name,\n",
    "    short_name,\n",
    "    long_name,\n",
    "    currency_unit\n",
    ") VALUES (%s, %s, %s, %s, %s)\n",
    "ON CONFLICT (country_code) DO NOTHING;\"\"\"\n",
    "\n",
    "for i, row in AccountsCountry_clean.iterrows():\n",
    "    curr.execute(accounts_country_table_insert, list(row))\n"
   ]
  },
  {
   "cell_type": "code",
   "execution_count": 41,
   "id": "641c602c",
   "metadata": {},
   "outputs": [],
   "source": [
    "accounts_data_table_insert = \"\"\"INSERT INTO accountsdata(\n",
    "    country_name,\n",
    "    country_code,\n",
    "    series_name,\n",
    "    series_code,\n",
    "    yr_2018\n",
    ") VALUES (%s, %s, %s, %s, %s)\n",
    "\"\"\"\n",
    "\n",
    "for i, row in AccountData_clean.iterrows():\n",
    "    curr.execute(accounts_data_table_insert, list(row))"
   ]
  },
  {
   "cell_type": "code",
   "execution_count": 40,
   "id": "d5535458",
   "metadata": {},
   "outputs": [],
   "source": [
    "accounts_series_table_insert = \"\"\"INSERT INTO accountseries(\n",
    "    series_code,\n",
    "    topic,\n",
    "    indicator_name,\n",
    "    short_definition\n",
    ") VALUES (%s, %s, %s, %s)\n",
    "\"\"\"\n",
    "\n",
    "for i, row in AccountSeries_clean.iterrows():\n",
    "    curr.execute(accounts_series_table_insert, list(row))"
   ]
  },
  {
   "cell_type": "code",
   "execution_count": 42,
   "id": "473006b7",
   "metadata": {},
   "outputs": [],
   "source": [
    "conn.commit()"
   ]
  },
  {
   "cell_type": "code",
   "execution_count": null,
   "id": "c2f55bde",
   "metadata": {},
   "outputs": [],
   "source": []
  }
 ],
 "metadata": {
  "kernelspec": {
   "display_name": "Python 3 (ipykernel)",
   "language": "python",
   "name": "python3"
  },
  "language_info": {
   "codemirror_mode": {
    "name": "ipython",
    "version": 3
   },
   "file_extension": ".py",
   "mimetype": "text/x-python",
   "name": "python",
   "nbconvert_exporter": "python",
   "pygments_lexer": "ipython3",
   "version": "3.11.3"
  }
 },
 "nbformat": 4,
 "nbformat_minor": 5
}
